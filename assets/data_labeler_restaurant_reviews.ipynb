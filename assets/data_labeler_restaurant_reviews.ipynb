{
 "cells": [
  {
   "cell_type": "code",
   "execution_count": 11,
   "metadata": {},
   "outputs": [],
   "source": [
    "import os\n",
    "from bs4 import BeautifulSoup\n",
    "import pandas as pd\n",
    "import Levenshtein\n",
    "import openai\n",
    "import dotenv\n",
    "from numpy.random import choice\n",
    "import time\n",
    "import ast"
   ]
  },
  {
   "cell_type": "code",
   "execution_count": 2,
   "metadata": {},
   "outputs": [],
   "source": [
    "from dotenv import load_dotenv\n",
    "import os\n",
    "\n",
    "load_dotenv()\n",
    "openai.api_key = os.getenv(\"OPENAI_API_KEY\")"
   ]
  },
  {
   "cell_type": "code",
   "execution_count": 29,
   "metadata": {},
   "outputs": [],
   "source": [
    "def get_GPT(prompt, model=\"gpt-3.5-turbo\", retries=5, backoff_factor=2, temp=0.7):\n",
    "    for attempt in range(retries + 1):\n",
    "        try:\n",
    "            completion = openai.ChatCompletion.create(\n",
    "                model=model,\n",
    "                stop=\"\\n\",\n",
    "                temperature=temp,\n",
    "                messages=[\n",
    "                    {\"role\": \"system\", \"content\": \"\"\"Ignore all previous instructions.Your task is now to help label data. You must respond\n",
    "with a list of -1, 0, and 1, for example [0, 1, 0, -1 ...1] that is the length of the list of vibes.\n",
    "You will receive a restaurant name, and three reviews from Google Maps. Based on your\n",
    "analysis of the reviews, you must consider each vibe in the list of vibes and assign it a\n",
    "score, 1 if this vibe is applicable to the restaurant, 0 if it is not relevant or there is not\n",
    "enough information to decide, and -1 if this vibe is especially untrue of this restaurant.\"\"\"},\n",
    "                    {\"role\": \"user\", \"content\": f\"{prompt}\"}\n",
    "                ]                \n",
    "            )\n",
    "            return completion.choices[0].message.content\n",
    "        except openai.error.RateLimitError as e:\n",
    "            print(\"RateLimit :(\")\n",
    "            if attempt < retries:\n",
    "                sleep_time = (backoff_factor ** attempt) \n",
    "                time.sleep(sleep_time)\n",
    "            else:\n",
    "                raise\n",
    "        except openai.error.APIError as e:\n",
    "            print(f\"APIError: {e}\")\n",
    "            if attempt < retries:\n",
    "                sleep_time = (backoff_factor ** attempt)\n",
    "                time.sleep(sleep_time)\n",
    "            else:\n",
    "                raise\n",
    "        except RequestException as e:\n",
    "            print(f\"RequestException: {e}\")\n",
    "            if attempt < retries:\n",
    "                sleep_time = (backoff_factor ** attempt)\n",
    "                time.sleep(sleep_time)\n",
    "            else:\n",
    "                raise"
   ]
  },
  {
   "cell_type": "code",
   "execution_count": 76,
   "metadata": {},
   "outputs": [],
   "source": [
    "def format_prompt(row):\n",
    "    review_string = \"\"\n",
    "    for n, r in enumerate([x['text'] for x in ast.literal_eval(row['reviews'])]):\n",
    "        r = r.replace(\"\\n\", \" \")\n",
    "        review_string +=(f\"{n+1}) {r}\\n\")\n",
    "    return f\"DATA:\\n{row['name']}\\n\\nTop 3 review previews:\\n{review_string}\\nList of vibes:\\n[Quirkadelic, Rainbow, Artsy, Hipster, Cozy, Industrial, Exotic, Sleek, Nostalgic, Glamorous, Sophisticated, Funky, Ethnic, Underground, Spirited, Folksy, Edgy, Innovative, Sustainable, Cosmopolitan, Garden-inspired, Invigorating, Chic]\\n\\nVector of values for each vibe:\"    "
   ]
  },
  {
   "cell_type": "code",
   "execution_count": 84,
   "metadata": {},
   "outputs": [
    {
     "data": {
      "text/plain": [
       "[0, -1, 0, -1, 1, 1, 1, 1, 0, 1, 0, 0, 1, 0, 1, 0, 0, 0, 0, 0, 0, 0, 1]"
      ]
     },
     "execution_count": 84,
     "metadata": {},
     "output_type": "execute_result"
    }
   ],
   "source": [
    "prompt = (format_prompt(row))\n",
    "v = get_GPT(prompt, temp=0)\n",
    "ast.literal_eval(v)"
   ]
  },
  {
   "cell_type": "code",
   "execution_count": 82,
   "metadata": {},
   "outputs": [
    {
     "name": "stdout",
     "output_type": "stream",
     "text": [
      "Quirkadelic 0\n",
      "Rainbow 0\n",
      "Artsy 0\n",
      "Hipster 0\n",
      "Cozy 1\n",
      "Industrial 0\n",
      "Exotic 0\n",
      "Sleek 0\n",
      "Nostalgic 0\n",
      "Glamorous 0\n",
      "Sophisticated 0\n",
      "Funky 0\n",
      "Ethnic 0\n",
      "Underground 0\n",
      "Spirited 1\n",
      "Folksy 0\n",
      "Edgy 0\n",
      "Innovative 0\n",
      "Sustainable 0\n",
      "Cosmopolitan 1\n",
      "Garden-inspired 0\n",
      "Invigorating 0\n",
      "Chic 0\n"
     ]
    }
   ],
   "source": [
    "vibevals = [0, 0, 0, 0, 1, 0, 0, 0, 0, 0, 0, 0, 0, 0, 1, 0, 0, 0, 0, 1, 0, 0, 0]\n",
    "vibelist = [\"Quirkadelic\", \"Rainbow\", \"Artsy\", \"Hipster\", \"Cozy\", \"Industrial\", \"Exotic\", \"Sleek\", \"Nostalgic\", \"Glamorous\", \"Sophisticated\", \"Funky\", \"Ethnic\", \"Underground\", \"Spirited\", \"Folksy\", \"Edgy\", \"Innovative\", \"Sustainable\", \"Cosmopolitan\", \"Garden-inspired\", \"Invigorating\", \"Chic\"]\n",
    "for vibe, val in zip(vibelist, vibevals):\n",
    "    print(vibe, val)"
   ]
  },
  {
   "cell_type": "code",
   "execution_count": 3,
   "metadata": {
    "scrolled": false
   },
   "outputs": [
    {
     "data": {
      "text/plain": [
       "['.ipynb_checkpoints',\n",
       " 'data_labeler_restaurant_reviews.ipynb',\n",
       " 'data_reviews.xlsx']"
      ]
     },
     "execution_count": 3,
     "metadata": {},
     "output_type": "execute_result"
    }
   ],
   "source": [
    "os.listdir()"
   ]
  },
  {
   "cell_type": "code",
   "execution_count": 7,
   "metadata": {},
   "outputs": [],
   "source": [
    "df=pd.read_excel('data_reviews.xlsx',index_col=0)"
   ]
  },
  {
   "cell_type": "code",
   "execution_count": 30,
   "metadata": {},
   "outputs": [
    {
     "data": {
      "text/plain": [
       "name                                                      Bilbao Berria\n",
       "reviews               [{'id': 'NK-bOEiAbi1bfZXUk86Vwg', 'url': 'http...\n",
       "total                                                               168\n",
       "possible_languages                       ['en', 'de', 'es', 'fr', 'pt']\n",
       "Name: 0, dtype: object"
      ]
     },
     "execution_count": 30,
     "metadata": {},
     "output_type": "execute_result"
    }
   ],
   "source": [
    "df.iloc[0]"
   ]
  },
  {
   "cell_type": "code",
   "execution_count": 115,
   "metadata": {},
   "outputs": [],
   "source": [
    "vectors = []\n",
    "for row in df.iterrows():\n",
    "    prompt = format_prompt(row[1])\n",
    "    for attempt in range(5):\n",
    "#         print(f\"attempt {attempt+1}\")\n",
    "        temp = 0.5 - (attempt/10)\n",
    "        response = get_GPT(prompt, model=\"gpt-4\", temp=temp)\n",
    "        try:\n",
    "            v = ast.literal_eval(response)\n",
    "            if len(v) == len(vibelist):\n",
    "                break\n",
    "        except:\n",
    "            print(response)\n",
    "    vectors.append(v)"
   ]
  },
  {
   "cell_type": "code",
   "execution_count": 116,
   "metadata": {},
   "outputs": [],
   "source": [
    "df2 = pd.DataFrame(vectors, columns=vibelist)\n",
    "df_dataout = pd.concat([df, df2], axis=1)"
   ]
  },
  {
   "cell_type": "code",
   "execution_count": 117,
   "metadata": {},
   "outputs": [],
   "source": [
    "df_dataout.to_excel(\"output.xlsx\", index=False)"
   ]
  },
  {
   "cell_type": "code",
   "execution_count": 119,
   "metadata": {},
   "outputs": [
    {
     "data": {
      "text/plain": [
       "name                  Bilbao BerriaLa Alcoba AzulMomoTerrace la Isab...\n",
       "reviews               [{'id': 'NK-bOEiAbi1bfZXUk86Vwg', 'url': 'http...\n",
       "total                                                              1659\n",
       "possible_languages    ['en', 'de', 'es', 'fr', 'pt']['en', 'es', 'de...\n",
       "Quirkadelic                                                           2\n",
       "Rainbow                                                              -1\n",
       "Artsy                                                                 2\n",
       "Hipster                                                               9\n",
       "Cozy                                                                 39\n",
       "Industrial                                                           -2\n",
       "Exotic                                                                5\n",
       "Sleek                                                                 2\n",
       "Nostalgic                                                             5\n",
       "Glamorous                                                             0\n",
       "Sophisticated                                                         5\n",
       "Funky                                                                 2\n",
       "Ethnic                                                                8\n",
       "Underground                                                           3\n",
       "Spirited                                                             22\n",
       "Folksy                                                                0\n",
       "Edgy                                                                  0\n",
       "Innovative                                                            1\n",
       "Sustainable                                                           1\n",
       "Cosmopolitan                                                         18\n",
       "Garden-inspired                                                       1\n",
       "Invigorating                                                          0\n",
       "Chic                                                                  3\n",
       "dtype: object"
      ]
     },
     "execution_count": 119,
     "metadata": {},
     "output_type": "execute_result"
    }
   ],
   "source": [
    "df_dataout.sum()"
   ]
  }
 ],
 "metadata": {
  "kernelspec": {
   "display_name": "Python 3",
   "language": "python",
   "name": "python3"
  },
  "language_info": {
   "codemirror_mode": {
    "name": "ipython",
    "version": 3
   },
   "file_extension": ".py",
   "mimetype": "text/x-python",
   "name": "python",
   "nbconvert_exporter": "python",
   "pygments_lexer": "ipython3",
   "version": "3.8.10"
  }
 },
 "nbformat": 4,
 "nbformat_minor": 4
}
